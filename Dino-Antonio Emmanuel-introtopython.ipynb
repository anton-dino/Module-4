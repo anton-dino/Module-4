{
 "cells": [
  {
   "cell_type": "markdown",
   "source": [
    "## 195718\r\n",
    "## Diño\r\n",
    "## 3 BS ITE"
   ],
   "metadata": {}
  },
  {
   "cell_type": "code",
   "execution_count": 1,
   "source": [
    "firstnum = int(input('Enter first number:'))\r\n",
    "secondnum = int(input('Enter second number:'))\r\n",
    "thirdnum = int(input('Enter third number:'))\r\n",
    "average = (firstnum + secondnum + thirdnum)/3\r\n",
    "print('The average is' , average)"
   ],
   "outputs": [
    {
     "output_type": "stream",
     "name": "stdout",
     "text": [
      "The average is 3.6666666666666665\n"
     ]
    }
   ],
   "metadata": {}
  },
  {
   "cell_type": "code",
   "execution_count": null,
   "source": [],
   "outputs": [],
   "metadata": {}
  }
 ],
 "metadata": {
  "kernelspec": {
   "name": "python3",
   "display_name": "Python 3.9.1 64-bit"
  },
  "language_info": {
   "codemirror_mode": {
    "name": "ipython",
    "version": 3
   },
   "file_extension": ".py",
   "mimetype": "text/x-python",
   "name": "python",
   "nbconvert_exporter": "python",
   "pygments_lexer": "ipython3",
   "version": "3.9.1"
  },
  "interpreter": {
   "hash": "84feed8b4e881995001d928cfc6dbdcf688c3e38f9419438cc85b25f8737a875"
  }
 },
 "nbformat": 4,
 "nbformat_minor": 4
}