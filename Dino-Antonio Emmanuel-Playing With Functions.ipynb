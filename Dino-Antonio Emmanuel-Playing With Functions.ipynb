{
 "cells": [
  {
   "cell_type": "markdown",
   "source": [
    "## 195718\r\n",
    "## Diño\r\n",
    "## 3 BS ITE"
   ],
   "metadata": {}
  },
  {
   "cell_type": "code",
   "execution_count": 5,
   "source": [
    "def problem_1(number):  \r\n",
    "    return 1 if (number==1 or number==0) else number * problem_1(number - 1);  \r\n",
    "\r\n",
    "n = input()\r\n",
    "print(problem_1(int(n)))"
   ],
   "outputs": [
    {
     "output_type": "stream",
     "name": "stdout",
     "text": [
      "24\n"
     ]
    }
   ],
   "metadata": {}
  },
  {
   "cell_type": "code",
   "execution_count": 9,
   "source": [
    "def problem_2(passphrase):\r\n",
    "    n = 0\r\n",
    "    passphrase = input(\"Enter Passphrase\")\r\n",
    "    while n < 3:\r\n",
    "        answer = input(\"Enter Passphrase\")\r\n",
    "        if answer == passphrase:\r\n",
    "            return print(\"1\")\r\n",
    "        else:\r\n",
    "            n+=1\r\n",
    "    return print(\"0\")    \r\n",
    "\r\n",
    "problem_2(n)"
   ],
   "outputs": [
    {
     "output_type": "stream",
     "name": "stdout",
     "text": [
      "1\n"
     ]
    }
   ],
   "metadata": {}
  },
  {
   "cell_type": "code",
   "execution_count": 18,
   "source": [
    "def ctok(temp):\r\n",
    "    return float(temp) + 273.15\r\n",
    "\r\n",
    "def ktoc(temp):\r\n",
    "    return float(temp) - 273.15\r\n",
    "\r\n",
    "def ktof(temp):\r\n",
    "    return (float(temp) + (-273.15)) * 9/5 + 32\r\n",
    "\r\n",
    "def ftok(temp):\r\n",
    "    return (float(temp) + (-32)) * 5/9 + 273.15 \r\n",
    "\r\n",
    "def ftoc(temp):\r\n",
    "    return (float(temp) + (-32)) * 5/9   \r\n",
    "\r\n",
    "def ctof(temp):\r\n",
    "    return float(temp) * 9/5 + 32\r\n",
    "\r\n",
    "def problem_3(temp, original_format, new_format):\r\n",
    "    if original_format == \"Celsius\" and new_format == \"Kelvin\":\r\n",
    "        return print(ctok(temp)) \r\n",
    "    elif original_format == \"Celsius\" and new_format == \"Farenheit\":\r\n",
    "        return print(ctof(temp))\r\n",
    "    elif original_format == \"Kelvin\" and new_format == \"Celsius\":\r\n",
    "        return print(ktoc(temp))\r\n",
    "    elif original_format == \"Kelvin\" and new_format == \"Farenheit\":\r\n",
    "        return print(ktof(temp))\r\n",
    "    elif original_format == \"Farenheit\" and new_format == \"Kelvin\":\r\n",
    "        return print(ftok(temp))\r\n",
    "    else:\r\n",
    "        return print(ktoc(temp))\r\n",
    "\r\n",
    "temperature = input(\"Input Temperature\")\r\n",
    "orig = input(\"Input Original Format\")\r\n",
    "new = input(\"Input New Format\")\r\n",
    "float(temperature)\r\n",
    "problem_3(temperature,orig,new)\r\n"
   ],
   "outputs": [
    {
     "output_type": "stream",
     "name": "stdout",
     "text": [
      "278.15\n"
     ]
    }
   ],
   "metadata": {}
  },
  {
   "cell_type": "code",
   "execution_count": 11,
   "source": [
    "def sum_and_square():\r\n",
    "    a = range(1,100)\r\n",
    "    d = sum(a)**2\r\n",
    "    \r\n",
    "    b = 1\r\n",
    "    c = 0\r\n",
    "    for b in a:\r\n",
    "        c = c + b ** 2\r\n",
    "        b + 1\r\n",
    "    \r\n",
    "    return c , d\r\n",
    "    \r\n",
    "print(c,d)"
   ],
   "outputs": [
    {
     "output_type": "stream",
     "name": "stdout",
     "text": [
      "328350 24502500\n"
     ]
    }
   ],
   "metadata": {}
  },
  {
   "cell_type": "code",
   "execution_count": 57,
   "source": [
    "def change(cents):\r\n",
    "    if cents%100 == 0: \r\n",
    "        coins100 = cents // 100\r\n",
    "        coins25 = 0\r\n",
    "        coins10 = 0\r\n",
    "        coins5 = 0\r\n",
    "        coins1 = 0\r\n",
    "        print(coins100)\r\n",
    "        print(coins25)\r\n",
    "        print(coins10)\r\n",
    "        print(coins5)\r\n",
    "        print(coins1)\r\n",
    "        \r\n",
    "    elif cents%25 == 0:\r\n",
    "        coins1 = cents // 100\r\n",
    "        coins25 = (cents%100)//25\r\n",
    "        coins10 = 0\r\n",
    "        coins5 = 0\r\n",
    "        coins1 = 0\r\n",
    "        print(coins1)\r\n",
    "        print(coins25)\r\n",
    "        print(coins10)\r\n",
    "        print(coins5)\r\n",
    "        print(coins1)\r\n",
    "        \r\n",
    "    elif cents%10 == 0:\r\n",
    "        coins100 = cents // 100\r\n",
    "        coins25 = (cents%100)//25\r\n",
    "        a = cents%25\r\n",
    "        coins10 = (cents%25)//10\r\n",
    "       \r\n",
    "        if a == 5 :\r\n",
    "            coins5 = 1\r\n",
    "            coins1 = (cents%5) // 1\r\n",
    "            print(coins100)\r\n",
    "            print(coins25)\r\n",
    "            print(coins10)\r\n",
    "            print(coins5)\r\n",
    "            print(coins1)\r\n",
    "        elif a == 15 :\r\n",
    "            coins5 = 1\r\n",
    "            coins1 = (cents%5) // 1\r\n",
    "            print(coins100)\r\n",
    "            print(coins25)\r\n",
    "            print(coins10)\r\n",
    "            print(coins5)\r\n",
    "            print(coins1)\r\n",
    "        else :\r\n",
    "            coins5 = 0\r\n",
    "            coins1 = (cents%5) // 1\r\n",
    "            print(coins100)\r\n",
    "            print(coins25)\r\n",
    "            print(coins10)\r\n",
    "            print(coins5)\r\n",
    "            print(coins1)\r\n",
    "        \r\n",
    "        \r\n",
    "    elif cents%5 == 0:          \r\n",
    "        coins100 = cents // 100\r\n",
    "        coins25 = (cents%100)//25          \r\n",
    "        coins10 = (cents%25)//10\r\n",
    "        coins5 = (cents%10)//5\r\n",
    "        coins1 = 0\r\n",
    "        print(coins100)\r\n",
    "        print(coins25)\r\n",
    "        print(coins10)\r\n",
    "        print(coins5)\r\n",
    "        print(coins1)\r\n",
    "        \r\n",
    "    else :\r\n",
    "        coins100 = cents // 100\r\n",
    "        coins25 = (cents%100)//25\r\n",
    "        a = cents%25\r\n",
    "        coins10 = ((cents%25))//10\r\n",
    "       \r\n",
    "        if a == 5 :\r\n",
    "            coins5 = 1\r\n",
    "            coins1 = (cents%5) // 1\r\n",
    "            print(coins100)\r\n",
    "            print(coins25)\r\n",
    "            print(coins10)\r\n",
    "            print(coins5)\r\n",
    "            print(coins1)\r\n",
    "        elif a == 15 :\r\n",
    "            coins5 = 1\r\n",
    "            coins1 = (cents%5) // 1\r\n",
    "            print(coins100)\r\n",
    "            print(coins25)\r\n",
    "            print(coins10)\r\n",
    "            print(coins5)\r\n",
    "            print(coins1)\r\n",
    "        else :\r\n",
    "            coins5 = 0\r\n",
    "            coins1 = (cents%5) // 1\r\n",
    "            print(coins100)\r\n",
    "            print(coins25)\r\n",
    "            print(coins10)\r\n",
    "            print(coins5)\r\n",
    "            print(coins1)\r\n",
    "        \r\n",
    "        \r\n",
    "centavos = int(input('Centavos: '))\r\n",
    "c = change(centavos)\r\n",
    " "
   ],
   "outputs": [
    {
     "output_type": "stream",
     "name": "stdout",
     "text": [
      "Centavos: 87\n",
      "0\n",
      "3\n",
      "1\n",
      "0\n",
      "2\n"
     ]
    }
   ],
   "metadata": {}
  },
  {
   "cell_type": "code",
   "execution_count": 58,
   "source": [
    "def problem_5(message):\r\n",
    "    splitmessage = list(message)\r\n",
    "    newword = []\r\n",
    "    new = \"\"\r\n",
    "    for x in splitmessage:\r\n",
    "        n = ord(x)\r\n",
    "        if n >= 97:\r\n",
    "            newn = n - 32\r\n",
    "            newword.append(chr(newn))\r\n",
    "        else:\r\n",
    "            newn = n + 32\r\n",
    "            newword.append(chr(newn))\r\n",
    "\r\n",
    "    for x in newword:\r\n",
    "        new += x\r\n",
    "    print(new)\r\n",
    "\r\n",
    "mess = input()\r\n",
    "problem_5(mess)\r\n"
   ],
   "outputs": [
    {
     "output_type": "stream",
     "name": "stdout",
     "text": [
      "MiGgY\n"
     ]
    }
   ],
   "metadata": {}
  }
 ],
 "metadata": {
  "kernelspec": {
   "name": "python3",
   "display_name": "Python 3.9.1 64-bit"
  },
  "language_info": {
   "codemirror_mode": {
    "name": "ipython",
    "version": 3
   },
   "file_extension": ".py",
   "mimetype": "text/x-python",
   "name": "python",
   "nbconvert_exporter": "python",
   "pygments_lexer": "ipython3",
   "version": "3.9.1"
  },
  "interpreter": {
   "hash": "84feed8b4e881995001d928cfc6dbdcf688c3e38f9419438cc85b25f8737a875"
  }
 },
 "nbformat": 4,
 "nbformat_minor": 4
}