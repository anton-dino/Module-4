{
 "cells": [
  {
   "cell_type": "markdown",
   "source": [
    "## 195718\r\n",
    "## Diño\r\n",
    "## 3 BS ITE"
   ],
   "metadata": {}
  },
  {
   "cell_type": "code",
   "execution_count": 1,
   "source": [
    "def dollars_to_pesos(conversion):\r\n",
    "    pesos = conversion * 50\r\n",
    "    return pesos\r\n",
    "\r\n",
    "dollars = int(input('Enter the amount in US Dollars:'))\r\n",
    "pesos = dollars_to_pesos(dollars)\r\n",
    "print(dollars, 'US Dollar(s) =', pesos, 'Philippine Pesos')"
   ],
   "outputs": [
    {
     "output_type": "stream",
     "name": "stdout",
     "text": [
      "5 US Dollar(s) = 250 Philippine Pesos\n"
     ]
    }
   ],
   "metadata": {}
  },
  {
   "cell_type": "code",
   "execution_count": 2,
   "source": [
    "a = int(input('a:'))\r\n",
    "b = int(input('b:'))\r\n",
    "print(a+b)\r\n",
    "print(a-b)\r\n",
    "print(a*b)\r\n",
    "print(a//b)\r\n",
    "print(a%b)"
   ],
   "outputs": [
    {
     "output_type": "stream",
     "name": "stdout",
     "text": [
      "13\n",
      "-1\n",
      "42\n",
      "0\n",
      "6\n"
     ]
    }
   ],
   "metadata": {}
  },
  {
   "cell_type": "code",
   "execution_count": 3,
   "source": [
    "def convert_cm_to_m(cm):\r\n",
    "    return cm/100\r\n",
    "def compute_bmi(kg, m):\r\n",
    "    return kg/m**2\r\n",
    "\r\n",
    "\r\n",
    "kg = int(input('Enter kg:'))\r\n",
    "height = int(input('Enter cm:'))\r\n",
    "m = convert_cm_to_m(height)\r\n",
    "bmi = compute_bmi(kg, m)\r\n",
    "print('BMI:', bmi)"
   ],
   "outputs": [
    {
     "output_type": "stream",
     "name": "stdout",
     "text": [
      "Enter kg:150\n",
      "Enter cm:180\n",
      "BMI: 46.29629629629629\n"
     ]
    }
   ],
   "metadata": {}
  }
 ],
 "metadata": {
  "kernelspec": {
   "name": "python3",
   "display_name": "Python 3.9.1 64-bit"
  },
  "language_info": {
   "codemirror_mode": {
    "name": "ipython",
    "version": 3
   },
   "file_extension": ".py",
   "mimetype": "text/x-python",
   "name": "python",
   "nbconvert_exporter": "python",
   "pygments_lexer": "ipython3",
   "version": "3.9.1"
  },
  "interpreter": {
   "hash": "84feed8b4e881995001d928cfc6dbdcf688c3e38f9419438cc85b25f8737a875"
  }
 },
 "nbformat": 4,
 "nbformat_minor": 4
}